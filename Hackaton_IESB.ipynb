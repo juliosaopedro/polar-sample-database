{
  "nbformat": 4,
  "nbformat_minor": 0,
  "metadata": {
    "colab": {
      "name": "Hackaton_IESB.ipynb",
      "provenance": [],
      "collapsed_sections": []
    },
    "kernelspec": {
      "name": "python3",
      "display_name": "Python 3"
    },
    "language_info": {
      "name": "python"
    }
  },
  "cells": [
    {
      "cell_type": "markdown",
      "metadata": {
        "id": "SwAo2fQWN9pL"
      },
      "source": [
        "# Sample Fitness Polar Dataset\n",
        "\n",
        "This dataset comes from real data from my Polar user from the year of 2016. Note that I have modified some of the data in order to remove some pre-calculated metrics because this dataset's purpose is to teach some of my students.\n",
        "\n",
        "The original dataset was downloaded by following the steps described [here](https://support.polar.com/en/how-to-download-all-your-data-from-polar-flow).\n",
        "\n",
        "Since these data are not well documented, I decided to mention some features that may help you. Do note that most of the file structure is self explainable and it is all in JSON format.\n",
        "\n",
        "- The ``exercises`` field is a list, but it always has size 1. This is used for sessions with multiple sports in it, like duathlon or triathlon. These are not exercises I practiced in 2016, so there will always be only one exercise in here.\n",
        "\n",
        "- The ``zones`` field indicates the zones for some metrics. Specially heart rate and speed zones. Why do these divisions exist? Depending on the zone the athlete is performing, the benefits to the human body are different. This is why they exist. The task to find out which benefits each zone provides is up to you.\n",
        "\n",
        "- The ``samples`` field is one of the most important. It has instant measures for each metric with a timestamp. In 2016, the Polar watch I used (Polar M400) performed one measurement around every 1 second. The ``heartRate`` field values are in beats per minute. The ``speed`` field values are in kilometers per hour. The ``altitude`` and ``distance`` fields are all in meters. The ``distance`` ``value`` fields are cumulative. You may use the ``recordedRoute`` to see the full route on that session.\n",
        "\n",
        "- The ``weather dataset`` folder contains some weather info only about sessions with GPS data, based on the starting latitude and longitude coordinates. These data came from [visualcrossing service](https://visualcrossing.com/), so it is easy to find documentation about it. The query used to get these data used the ``unitGroup`` as ``metric``. I have provided json and csv files. Use whichever you prefer.\n",
        "\n",
        "Note that some of these fields may be absent depending on the exercise provided in the file. Some times, I did not wear the heart rate sensor (there is no heart rate data), sometimes I forgot to enable the GPS (there is no GPS, speed, distance data) and so on. Some modalities just do not have some data by definition, for example, the ``strength training`` sessions are just simple workouts on the gym. They do not have GPS data and some of them may not even have heart rate data. Another example is the ``swimming`` sessions. In 2016 I used to swim in an inside pool, so I was not able to use the GPS, although I was able to count how many laps I made on the pool and I manually typed the total distance, so it is possible to find sessions with a total distance, but no GPS data.\n",
        "\n",
        "You may want to read some texts to familiarize yourself with some metrics. Google about what most fitness watches provide about speed, pace, heart rate zones, what to measure on each kilometer of a session, metrics from the first 5km/10km in a session etc. Be creative on what you can calculate and how to visualize them. Remember that replicating what already exists may be interesting, but you need to go beyond to stand out.\n",
        "\n",
        "This dataset is meant to be used as a challenge. The data is not the same in all the files and you must study them in order to understand how to process them. Hey, this is the real world!\n",
        "\n",
        "If you want to use this dataset for self study, classroom or whatever you want to do with it, I just ask you to add a reference to this repo.\n",
        "\n",
        "Also, feel free to follow me on [Polar Flow](https://flow.polar.com/training/profiles/3142224), [Strava](https://www.strava.com/athletes/9485255) and [Instagram (@mendi_km)](https://instagram.com/mendi_km). You may search for some of these sessions on these platforms to compare your results.\n",
        "\n",
        "Good luck on the challenge you have been assigned!\n",
        "\n",
        "<center><img src=\"https://github.com/juliosaopedro/polar-sample-database/blob/master/image/exercicio.jpg?raw=true\" ></p>\n",
        "\n"
      ]
    },
    {
      "cell_type": "markdown",
      "metadata": {
        "id": "ww8t9ANAP-18"
      },
      "source": [
        "## Install da biblioteca ijson\n",
        "### Ijson is an iterative JSON parser with standard Python iterator interfaces."
      ]
    },
    {
      "cell_type": "code",
      "metadata": {
        "id": "RL12c8lREG9a"
      },
      "source": [
        "!pip install ijson"
      ],
      "execution_count": null,
      "outputs": []
    },
    {
      "cell_type": "markdown",
      "metadata": {
        "id": "DpeIUFiaQGmD"
      },
      "source": [
        "## Bibliotecas utilizadas"
      ]
    },
    {
      "cell_type": "code",
      "metadata": {
        "id": "GUO21wNhEEDG"
      },
      "source": [
        "import os, json\n",
        "import pandas as pd\n",
        "import numpy as np\n",
        "import glob\n",
        "pd.set_option('display.max_columns', None)"
      ],
      "execution_count": null,
      "outputs": []
    },
    {
      "cell_type": "markdown",
      "metadata": {
        "id": "751AYCttQKaj"
      },
      "source": [
        "## Importacao de demais bibliotecas que serão utilizadas"
      ]
    },
    {
      "cell_type": "code",
      "metadata": {
        "id": "HqWsjtdpELer"
      },
      "source": [
        "import ijson\n",
        "import urllib.request"
      ],
      "execution_count": null,
      "outputs": []
    },
    {
      "cell_type": "markdown",
      "metadata": {
        "id": "MjcmmaNlQS46"
      },
      "source": [
        "## Lendo e tratando os arquivos do dataset"
      ]
    },
    {
      "cell_type": "code",
      "metadata": {
        "colab": {
          "base_uri": "https://localhost:8080/",
          "height": 164
        },
        "id": "i5GpBLQleRhD",
        "outputId": "393b63bc-8d23-4354-bf2a-e67a49bc7357"
      },
      "source": [
        "temp = pd.DataFrame()\n",
        "\n",
        "path_to_json = '/content/arquivos/' \n",
        "\n",
        "json_pattern = os.path.join(path_to_json,'*.json')\n",
        "file_list = glob.glob(json_pattern)\n",
        "\n",
        "\n",
        "dfs = []\n",
        "for file in file_list:\n",
        "    with open(file) as f:\n",
        "        json_data = pd.json_normalize(json.loads(f.read()))\n",
        "        sport_places = ijson.kvitems(f, 'exercises.item')\n",
        "        names = (v for k, v in european_places if k == 'sport')\n",
        "    dfs.append(json_data)\n",
        "\n",
        "df = pd.concat(dfs, sort=True) \n",
        "\n",
        "# Selecionando as colunas a serem analisadas\n",
        "features_columns = ['startTime', 'stopTime', 'distance', 'name','kiloCalories',\n",
        "                    'physicalInformationSnapshot.aerobicThreshold','physicalInformationSnapshot.anaerobicThreshold',\n",
        "                    'physicalInformationSnapshot.maximumHeartRate']\n",
        "df_tratado = df[features_columns]\n",
        "\n",
        "df_tratado.head(2)"
      ],
      "execution_count": null,
      "outputs": [
        {
          "output_type": "execute_result",
          "data": {
            "text/html": [
              "<div>\n",
              "<style scoped>\n",
              "    .dataframe tbody tr th:only-of-type {\n",
              "        vertical-align: middle;\n",
              "    }\n",
              "\n",
              "    .dataframe tbody tr th {\n",
              "        vertical-align: top;\n",
              "    }\n",
              "\n",
              "    .dataframe thead th {\n",
              "        text-align: right;\n",
              "    }\n",
              "</style>\n",
              "<table border=\"1\" class=\"dataframe\">\n",
              "  <thead>\n",
              "    <tr style=\"text-align: right;\">\n",
              "      <th></th>\n",
              "      <th>startTime</th>\n",
              "      <th>stopTime</th>\n",
              "      <th>distance</th>\n",
              "      <th>name</th>\n",
              "      <th>kiloCalories</th>\n",
              "      <th>physicalInformationSnapshot.aerobicThreshold</th>\n",
              "      <th>physicalInformationSnapshot.anaerobicThreshold</th>\n",
              "      <th>physicalInformationSnapshot.maximumHeartRate</th>\n",
              "    </tr>\n",
              "  </thead>\n",
              "  <tbody>\n",
              "    <tr>\n",
              "      <th>0</th>\n",
              "      <td>2016-11-24T19:48:45.000</td>\n",
              "      <td>2016-11-24T20:32:17.000</td>\n",
              "      <td>1152.0</td>\n",
              "      <td>Nadar piscina</td>\n",
              "      <td>373.0</td>\n",
              "      <td>148.0</td>\n",
              "      <td>177.0</td>\n",
              "      <td>197.0</td>\n",
              "    </tr>\n",
              "    <tr>\n",
              "      <th>0</th>\n",
              "      <td>2016-09-02T16:34:50.000</td>\n",
              "      <td>2016-09-02T16:59:31.000</td>\n",
              "      <td>817.0</td>\n",
              "      <td>Walking</td>\n",
              "      <td>77.0</td>\n",
              "      <td>148.0</td>\n",
              "      <td>177.0</td>\n",
              "      <td>197.0</td>\n",
              "    </tr>\n",
              "  </tbody>\n",
              "</table>\n",
              "</div>"
            ],
            "text/plain": [
              "                 startTime                 stopTime  distance           name  \\\n",
              "0  2016-11-24T19:48:45.000  2016-11-24T20:32:17.000    1152.0  Nadar piscina   \n",
              "0  2016-09-02T16:34:50.000  2016-09-02T16:59:31.000     817.0        Walking   \n",
              "\n",
              "   kiloCalories  physicalInformationSnapshot.aerobicThreshold  \\\n",
              "0         373.0                                         148.0   \n",
              "0          77.0                                         148.0   \n",
              "\n",
              "   physicalInformationSnapshot.anaerobicThreshold  \\\n",
              "0                                           177.0   \n",
              "0                                           177.0   \n",
              "\n",
              "   physicalInformationSnapshot.maximumHeartRate  \n",
              "0                                         197.0  \n",
              "0                                         197.0  "
            ]
          },
          "metadata": {},
          "execution_count": 223
        }
      ]
    },
    {
      "cell_type": "code",
      "metadata": {
        "id": "pUGhgTRyQzI5"
      },
      "source": [
        "## Renomeando as colunas\n",
        "df_tratado.rename(columns={\"startTime\":\"startTime\",\"stopTime\":\"stopTime\", \"distance\":\"distance\",\"name\":\"sport\",\n",
        "                           \"kiloCalories\":\"kiloCalories\", \"physicalInformationSnapshot.aerobicThreshold\": \n",
        "                           \"aerobicThreshold\", \"physicalInformationSnapshot.anaerobicThreshold\": \n",
        "                           \"anaerobicThreshold\",\"anaerobicThreshold\":\"anaerobicThreshold\",\n",
        "                           \"physicalInformationSnapshot.maximumHeartRate\":\"maximumHeartRate\"})\n"
      ],
      "execution_count": null,
      "outputs": []
    },
    {
      "cell_type": "markdown",
      "metadata": {
        "id": "ZMblbuHDQeni"
      },
      "source": [
        "## Analisando nosso conjunto de dados"
      ]
    },
    {
      "cell_type": "code",
      "metadata": {
        "colab": {
          "base_uri": "https://localhost:8080/",
          "height": 295
        },
        "id": "qmvaoy8XIE_U",
        "outputId": "4f54b72a-6c30-49b4-c646-eb0d0613e4f0"
      },
      "source": [
        "df_tratado.describe()"
      ],
      "execution_count": null,
      "outputs": [
        {
          "output_type": "execute_result",
          "data": {
            "text/html": [
              "<div>\n",
              "<style scoped>\n",
              "    .dataframe tbody tr th:only-of-type {\n",
              "        vertical-align: middle;\n",
              "    }\n",
              "\n",
              "    .dataframe tbody tr th {\n",
              "        vertical-align: top;\n",
              "    }\n",
              "\n",
              "    .dataframe thead th {\n",
              "        text-align: right;\n",
              "    }\n",
              "</style>\n",
              "<table border=\"1\" class=\"dataframe\">\n",
              "  <thead>\n",
              "    <tr style=\"text-align: right;\">\n",
              "      <th></th>\n",
              "      <th>distance</th>\n",
              "      <th>kiloCalories</th>\n",
              "      <th>aerobicThreshold</th>\n",
              "      <th>anaerobicThreshold</th>\n",
              "      <th>maximumHeartRate</th>\n",
              "    </tr>\n",
              "  </thead>\n",
              "  <tbody>\n",
              "    <tr>\n",
              "      <th>count</th>\n",
              "      <td>50.000000</td>\n",
              "      <td>143.000000</td>\n",
              "      <td>133.000000</td>\n",
              "      <td>133.000000</td>\n",
              "      <td>133.000000</td>\n",
              "    </tr>\n",
              "    <tr>\n",
              "      <th>mean</th>\n",
              "      <td>10842.343767</td>\n",
              "      <td>343.244755</td>\n",
              "      <td>148.398496</td>\n",
              "      <td>177.398496</td>\n",
              "      <td>197.398496</td>\n",
              "    </tr>\n",
              "    <tr>\n",
              "      <th>std</th>\n",
              "      <td>12888.061136</td>\n",
              "      <td>255.477355</td>\n",
              "      <td>0.491440</td>\n",
              "      <td>0.491440</td>\n",
              "      <td>0.491440</td>\n",
              "    </tr>\n",
              "    <tr>\n",
              "      <th>min</th>\n",
              "      <td>0.000000</td>\n",
              "      <td>23.000000</td>\n",
              "      <td>148.000000</td>\n",
              "      <td>177.000000</td>\n",
              "      <td>197.000000</td>\n",
              "    </tr>\n",
              "    <tr>\n",
              "      <th>25%</th>\n",
              "      <td>1815.500000</td>\n",
              "      <td>154.000000</td>\n",
              "      <td>148.000000</td>\n",
              "      <td>177.000000</td>\n",
              "      <td>197.000000</td>\n",
              "    </tr>\n",
              "    <tr>\n",
              "      <th>50%</th>\n",
              "      <td>4740.500000</td>\n",
              "      <td>317.000000</td>\n",
              "      <td>148.000000</td>\n",
              "      <td>177.000000</td>\n",
              "      <td>197.000000</td>\n",
              "    </tr>\n",
              "    <tr>\n",
              "      <th>75%</th>\n",
              "      <td>14795.550049</td>\n",
              "      <td>415.500000</td>\n",
              "      <td>149.000000</td>\n",
              "      <td>178.000000</td>\n",
              "      <td>198.000000</td>\n",
              "    </tr>\n",
              "    <tr>\n",
              "      <th>max</th>\n",
              "      <td>60084.937500</td>\n",
              "      <td>1557.000000</td>\n",
              "      <td>149.000000</td>\n",
              "      <td>178.000000</td>\n",
              "      <td>198.000000</td>\n",
              "    </tr>\n",
              "  </tbody>\n",
              "</table>\n",
              "</div>"
            ],
            "text/plain": [
              "           distance  kiloCalories  aerobicThreshold  anaerobicThreshold  \\\n",
              "count     50.000000    143.000000        133.000000          133.000000   \n",
              "mean   10842.343767    343.244755        148.398496          177.398496   \n",
              "std    12888.061136    255.477355          0.491440            0.491440   \n",
              "min        0.000000     23.000000        148.000000          177.000000   \n",
              "25%     1815.500000    154.000000        148.000000          177.000000   \n",
              "50%     4740.500000    317.000000        148.000000          177.000000   \n",
              "75%    14795.550049    415.500000        149.000000          178.000000   \n",
              "max    60084.937500   1557.000000        149.000000          178.000000   \n",
              "\n",
              "       maximumHeartRate  \n",
              "count        133.000000  \n",
              "mean         197.398496  \n",
              "std            0.491440  \n",
              "min          197.000000  \n",
              "25%          197.000000  \n",
              "50%          197.000000  \n",
              "75%          198.000000  \n",
              "max          198.000000  "
            ]
          },
          "metadata": {},
          "execution_count": 235
        }
      ]
    },
    {
      "cell_type": "markdown",
      "metadata": {
        "id": "Qk2VFKCmQihL"
      },
      "source": [
        "## Analisando por esporte"
      ]
    },
    {
      "cell_type": "code",
      "metadata": {
        "colab": {
          "base_uri": "https://localhost:8080/",
          "height": 542
        },
        "id": "D6tRh4PpNRir",
        "outputId": "98e04a0e-c1e8-4a37-cdce-4ddf3eeb7809"
      },
      "source": [
        "df_tratado.groupby(['sport']).mean()"
      ],
      "execution_count": null,
      "outputs": [
        {
          "output_type": "execute_result",
          "data": {
            "text/html": [
              "<div>\n",
              "<style scoped>\n",
              "    .dataframe tbody tr th:only-of-type {\n",
              "        vertical-align: middle;\n",
              "    }\n",
              "\n",
              "    .dataframe tbody tr th {\n",
              "        vertical-align: top;\n",
              "    }\n",
              "\n",
              "    .dataframe thead th {\n",
              "        text-align: right;\n",
              "    }\n",
              "</style>\n",
              "<table border=\"1\" class=\"dataframe\">\n",
              "  <thead>\n",
              "    <tr style=\"text-align: right;\">\n",
              "      <th></th>\n",
              "      <th>distance</th>\n",
              "      <th>kiloCalories</th>\n",
              "      <th>aerobicThreshold</th>\n",
              "      <th>anaerobicThreshold</th>\n",
              "      <th>maximumHeartRate</th>\n",
              "    </tr>\n",
              "    <tr>\n",
              "      <th>sport</th>\n",
              "      <th></th>\n",
              "      <th></th>\n",
              "      <th></th>\n",
              "      <th></th>\n",
              "      <th></th>\n",
              "    </tr>\n",
              "  </thead>\n",
              "  <tbody>\n",
              "    <tr>\n",
              "      <th>Corrida</th>\n",
              "      <td>13734.799805</td>\n",
              "      <td>1066.000000</td>\n",
              "      <td>149.000000</td>\n",
              "      <td>178.000000</td>\n",
              "      <td>198.000000</td>\n",
              "    </tr>\n",
              "    <tr>\n",
              "      <th>Corrida em passadeira rolante</th>\n",
              "      <td>3030.000000</td>\n",
              "      <td>204.666667</td>\n",
              "      <td>148.000000</td>\n",
              "      <td>177.000000</td>\n",
              "      <td>197.000000</td>\n",
              "    </tr>\n",
              "    <tr>\n",
              "      <th>Cycling</th>\n",
              "      <td>20484.513811</td>\n",
              "      <td>608.000000</td>\n",
              "      <td>148.000000</td>\n",
              "      <td>177.000000</td>\n",
              "      <td>197.000000</td>\n",
              "    </tr>\n",
              "    <tr>\n",
              "      <th>Functional tr.</th>\n",
              "      <td>NaN</td>\n",
              "      <td>336.000000</td>\n",
              "      <td>148.000000</td>\n",
              "      <td>177.000000</td>\n",
              "      <td>197.000000</td>\n",
              "    </tr>\n",
              "    <tr>\n",
              "      <th>Nadar piscina</th>\n",
              "      <td>1305.000000</td>\n",
              "      <td>361.250000</td>\n",
              "      <td>148.000000</td>\n",
              "      <td>177.000000</td>\n",
              "      <td>197.000000</td>\n",
              "    </tr>\n",
              "    <tr>\n",
              "      <th>NataÃ§Ã£o piscina</th>\n",
              "      <td>1344.000000</td>\n",
              "      <td>333.500000</td>\n",
              "      <td>148.000000</td>\n",
              "      <td>177.000000</td>\n",
              "      <td>197.000000</td>\n",
              "    </tr>\n",
              "    <tr>\n",
              "      <th>Open water</th>\n",
              "      <td>875.900024</td>\n",
              "      <td>248.000000</td>\n",
              "      <td>148.000000</td>\n",
              "      <td>177.000000</td>\n",
              "      <td>197.000000</td>\n",
              "    </tr>\n",
              "    <tr>\n",
              "      <th>Other indoor</th>\n",
              "      <td>NaN</td>\n",
              "      <td>170.857143</td>\n",
              "      <td>148.857143</td>\n",
              "      <td>177.857143</td>\n",
              "      <td>197.857143</td>\n",
              "    </tr>\n",
              "    <tr>\n",
              "      <th>Other outdoor</th>\n",
              "      <td>3522.500000</td>\n",
              "      <td>208.000000</td>\n",
              "      <td>148.000000</td>\n",
              "      <td>177.000000</td>\n",
              "      <td>197.000000</td>\n",
              "    </tr>\n",
              "    <tr>\n",
              "      <th>Pool swimm.</th>\n",
              "      <td>NaN</td>\n",
              "      <td>389.750000</td>\n",
              "      <td>148.583333</td>\n",
              "      <td>177.583333</td>\n",
              "      <td>197.583333</td>\n",
              "    </tr>\n",
              "    <tr>\n",
              "      <th>Pool swimming</th>\n",
              "      <td>NaN</td>\n",
              "      <td>303.111111</td>\n",
              "      <td>148.000000</td>\n",
              "      <td>177.000000</td>\n",
              "      <td>197.000000</td>\n",
              "    </tr>\n",
              "    <tr>\n",
              "      <th>Running</th>\n",
              "      <td>5462.281894</td>\n",
              "      <td>489.090909</td>\n",
              "      <td>148.545455</td>\n",
              "      <td>177.545455</td>\n",
              "      <td>197.545455</td>\n",
              "    </tr>\n",
              "    <tr>\n",
              "      <th>Strength tr.</th>\n",
              "      <td>NaN</td>\n",
              "      <td>175.354839</td>\n",
              "      <td>148.225806</td>\n",
              "      <td>177.225806</td>\n",
              "      <td>197.225806</td>\n",
              "    </tr>\n",
              "    <tr>\n",
              "      <th>Treadmill runn.</th>\n",
              "      <td>NaN</td>\n",
              "      <td>95.000000</td>\n",
              "      <td>148.000000</td>\n",
              "      <td>177.000000</td>\n",
              "      <td>197.000000</td>\n",
              "    </tr>\n",
              "    <tr>\n",
              "      <th>Walking</th>\n",
              "      <td>3490.533366</td>\n",
              "      <td>291.666667</td>\n",
              "      <td>148.000000</td>\n",
              "      <td>177.000000</td>\n",
              "      <td>197.000000</td>\n",
              "    </tr>\n",
              "  </tbody>\n",
              "</table>\n",
              "</div>"
            ],
            "text/plain": [
              "                                   distance  kiloCalories  aerobicThreshold  \\\n",
              "sport                                                                         \n",
              "Corrida                        13734.799805   1066.000000        149.000000   \n",
              "Corrida em passadeira rolante   3030.000000    204.666667        148.000000   \n",
              "Cycling                        20484.513811    608.000000        148.000000   \n",
              "Functional tr.                          NaN    336.000000        148.000000   \n",
              "Nadar piscina                   1305.000000    361.250000        148.000000   \n",
              "NataÃ§Ã£o piscina               1344.000000    333.500000        148.000000   \n",
              "Open water                       875.900024    248.000000        148.000000   \n",
              "Other indoor                            NaN    170.857143        148.857143   \n",
              "Other outdoor                   3522.500000    208.000000        148.000000   \n",
              "Pool swimm.                             NaN    389.750000        148.583333   \n",
              "Pool swimming                           NaN    303.111111        148.000000   \n",
              "Running                         5462.281894    489.090909        148.545455   \n",
              "Strength tr.                            NaN    175.354839        148.225806   \n",
              "Treadmill runn.                         NaN     95.000000        148.000000   \n",
              "Walking                         3490.533366    291.666667        148.000000   \n",
              "\n",
              "                               anaerobicThreshold  maximumHeartRate  \n",
              "sport                                                                \n",
              "Corrida                                178.000000        198.000000  \n",
              "Corrida em passadeira rolante          177.000000        197.000000  \n",
              "Cycling                                177.000000        197.000000  \n",
              "Functional tr.                         177.000000        197.000000  \n",
              "Nadar piscina                          177.000000        197.000000  \n",
              "NataÃ§Ã£o piscina                      177.000000        197.000000  \n",
              "Open water                             177.000000        197.000000  \n",
              "Other indoor                           177.857143        197.857143  \n",
              "Other outdoor                          177.000000        197.000000  \n",
              "Pool swimm.                            177.583333        197.583333  \n",
              "Pool swimming                          177.000000        197.000000  \n",
              "Running                                177.545455        197.545455  \n",
              "Strength tr.                           177.225806        197.225806  \n",
              "Treadmill runn.                        177.000000        197.000000  \n",
              "Walking                                177.000000        197.000000  "
            ]
          },
          "metadata": {},
          "execution_count": 254
        }
      ]
    },
    {
      "cell_type": "code",
      "metadata": {
        "colab": {
          "base_uri": "https://localhost:8080/"
        },
        "id": "ndu1Xs7MN7KD",
        "outputId": "05750240-67d6-4afd-8dd6-22d4778b0fa2"
      },
      "source": [
        "## Valores de maximumHeartRate por esporte\n",
        "\n",
        "df_tratado.groupby(['sport'])['maximumHeartRate'].value_counts()"
      ],
      "execution_count": null,
      "outputs": [
        {
          "output_type": "execute_result",
          "data": {
            "text/plain": [
              "sport                          maximumHeartRate\n",
              "Corrida                        198.0                1\n",
              "Corrida em passadeira rolante  197.0                3\n",
              "Cycling                        197.0                7\n",
              "Functional tr.                 197.0                2\n",
              "Nadar piscina                  197.0                4\n",
              "NataÃ§Ã£o piscina              197.0                2\n",
              "Open water                     197.0                1\n",
              "Other indoor                   198.0               18\n",
              "                               197.0                3\n",
              "Other outdoor                  197.0                1\n",
              "Pool swimm.                    198.0               21\n",
              "                               197.0               15\n",
              "Pool swimming                  197.0                9\n",
              "Running                        198.0                6\n",
              "                               197.0                5\n",
              "Strength tr.                   197.0               24\n",
              "                               198.0                7\n",
              "Treadmill runn.                197.0                1\n",
              "Walking                        197.0                3\n",
              "Name: maximumHeartRate, dtype: int64"
            ]
          },
          "metadata": {},
          "execution_count": 245
        }
      ]
    },
    {
      "cell_type": "code",
      "metadata": {
        "colab": {
          "base_uri": "https://localhost:8080/"
        },
        "id": "skzWtdN3kg7p",
        "outputId": "c1a977b4-0119-482b-81f5-bc27faba7211"
      },
      "source": [
        "## Quantidade de ocorrencias distância por esporte\n",
        "\n",
        "df_tratado.groupby(['sport'])['distance'].value_counts()"
      ],
      "execution_count": null,
      "outputs": [
        {
          "output_type": "execute_result",
          "data": {
            "text/plain": [
              "sport                          distance    \n",
              "Corrida                        13734.799805    1\n",
              "Corrida em passadeira rolante  1800.000000     1\n",
              "                               4260.000000     1\n",
              "Cycling                        8113.500000     1\n",
              "                               14241.599609    1\n",
              "                               14980.200195    1\n",
              "                               21850.199219    1\n",
              "                               22233.199219    1\n",
              "                               30447.199219    1\n",
              "                               31525.699219    1\n",
              "Nadar piscina                  1080.000000     1\n",
              "                               1152.000000     1\n",
              "                               1476.000000     1\n",
              "                               1512.000000     1\n",
              "NataÃ§Ã£o piscina              1116.000000     1\n",
              "                               1368.000000     1\n",
              "                               1548.000000     1\n",
              "Open water                     875.900024      1\n",
              "Other outdoor                  3522.500000     1\n",
              "Running                        1374.800049     1\n",
              "                               3098.100098     1\n",
              "                               4383.100098     1\n",
              "                               4603.299805     1\n",
              "                               4615.000000     1\n",
              "                               5050.399902     1\n",
              "                               5090.100098     1\n",
              "                               6107.700195     1\n",
              "                               7400.200195     1\n",
              "                               8288.400391     1\n",
              "                               10074.000000    1\n",
              "Walking                        817.000000      1\n",
              "                               1862.000000     1\n",
              "                               7792.600098     1\n",
              "Name: distance, dtype: int64"
            ]
          },
          "metadata": {},
          "execution_count": 255
        }
      ]
    },
    {
      "cell_type": "markdown",
      "metadata": {
        "id": "QlysAmssrGSA"
      },
      "source": [
        "# Insights"
      ]
    },
    {
      "cell_type": "markdown",
      "metadata": {
        "id": "U45annvbrJff"
      },
      "source": [
        "- A <b>frequência máxima cardíca</b> (maximumRateHeart) oscilou entre 197 e 198 batimentos cardíacos.\n",
        "- O <b>consumo médio de kilo calorias</b> dos esportes praticados alcançou o valor de 343.\n",
        "- O valores médios dos <b>limiares aeróbico e anaeróbico</b> foram respectivamente 148 e 177.\n",
        "- o esporte que mais consumiu kilo calorias na média foi a <b>Corrida</b> com 1.066 kcal.\n",
        "- A maior distância média coube ao <b>Ciclismo</b> com 20.484 metros.\n",
        "- A <b>Corrida em Esteira</b> (Treadmill runn) foi a atividade física que menos consumiu kilo calorias, 95 kcal em média.\n",
        "<br>\n",
        "\n",
        "Frequência cardíaca em atividade física por idade <br>\n",
        "- Idade _\t Frequência cardíaca (bpm)\n",
        "- 20 ____ 100-170\n",
        "- 30 ____ 95-162\n",
        "- 35 ____ 93-157\n",
        "- 40 ____ 90-153\n",
        "- 45 ____ 88-149\n",
        "- 50 ____ 85-145\n",
        "- 55 ____ 83-140\n",
        "- 60 ____ 80-136\n",
        "- 65 ____ 78-132\n",
        "- 70 ____ 75-128\n",
        "\n",
        "Como o nosso atleta tinha na época 23 anos, os batimentos cardíacos estão um pouco acima, deveriam estar no máximo em 170 e na realidade estão por volta de 197.\n",
        "\n"
      ]
    },
    {
      "cell_type": "code",
      "metadata": {
        "id": "PdbeqYLr2ryp"
      },
      "source": [
        ""
      ],
      "execution_count": null,
      "outputs": []
    }
  ]
}